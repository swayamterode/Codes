{
 "metadata": {
  "language_info": {
   "codemirror_mode": {
    "name": "ipython",
    "version": 3
   },
   "file_extension": ".py",
   "mimetype": "text/x-python",
   "name": "python",
   "nbconvert_exporter": "python",
   "pygments_lexer": "ipython3",
   "version": "3.9.5"
  },
  "orig_nbformat": 4,
  "kernelspec": {
   "name": "python3",
   "display_name": "Python 3.9.5 64-bit"
  },
  "interpreter": {
   "hash": "774859b2267dd942a7ec4c9357ad77e8ff189738f21520416ffa9c31600369a1"
  }
 },
 "nbformat": 4,
 "nbformat_minor": 2,
 "cells": [
  {
   "source": [
    "# Variables\n",
    "```\n",
    "A variable is a location in memory to store some data(value). \n",
    "\n",
    "They are given unique names to differentiate between memory locations. \n",
    "The rules for writing a variable's name are the same as the rules for writing in Python. \n",
    "\n",
    "We don't need to declare a variable before using t. In Python, we simply assign a value to a variable and it will exist. \n",
    "We don't even have to declare the type of the variable. \n",
    "This is handled internally according to the type of value we assign to the variable.\n",
    "```"
   ],
   "cell_type": "markdown",
   "metadata": {}
  },
  {
   "source": [
    "# Variable Assignments"
   ],
   "cell_type": "markdown",
   "metadata": {}
  },
  {
   "source": [
    "#We use the assignment operator (=) to assign values to a variable\n",
    "\n",
    "a=10\n",
    "b=5.69\n",
    "c=\"Swayam\"\n",
    "d='D'"
   ],
   "cell_type": "code",
   "metadata": {},
   "execution_count": 1,
   "outputs": []
  },
  {
   "source": [
    "Unlike other languages we are not declaring the variable with a datatype and then assign to it. In python internally handles this. "
   ],
   "cell_type": "markdown",
   "metadata": {}
  },
  {
   "source": [
    "# Multiple Assignments"
   ],
   "cell_type": "markdown",
   "metadata": {}
  },
  {
   "cell_type": "code",
   "execution_count": 2,
   "metadata": {},
   "outputs": [
    {
     "output_type": "stream",
     "name": "stdout",
     "text": [
      "10 5.99 Swayam\n"
     ]
    }
   ],
   "source": [
    "a,b,c=10,5.99,\"Swayam\"\n",
    "print (a,b,c)"
   ]
  },
  {
   "cell_type": "code",
   "execution_count": 4,
   "metadata": {},
   "outputs": [
    {
     "output_type": "stream",
     "name": "stdout",
     "text": [
      "Swayam Swayam Swayam Swayam\n"
     ]
    }
   ],
   "source": [
    "#assign the same values to multiple variables at once\n",
    "a=b=c=d=\"Swayam\"\n",
    "print(a,b,c,d)"
   ]
  },
  {
   "source": [
    "# Storage Locations\n"
   ],
   "cell_type": "markdown",
   "metadata": {}
  },
  {
   "source": [
    "x = 3\n",
    "print(id(x)) #Prints address of variable x"
   ],
   "cell_type": "markdown",
   "metadata": {}
  },
  {
   "cell_type": "code",
   "execution_count": 6,
   "metadata": {},
   "outputs": [
    {
     "output_type": "stream",
     "name": "stdout",
     "text": [
      "1018884352368\n"
     ]
    }
   ],
   "source": [
    "y= 3\n",
    "print(id(y))"
   ]
  },
  {
   "source": [
    "Whenever we use `id` it gives the address of an variable."
   ],
   "cell_type": "markdown",
   "metadata": {}
  },
  {
   "cell_type": "code",
   "execution_count": 9,
   "metadata": {},
   "outputs": [
    {
     "output_type": "stream",
     "name": "stdout",
     "text": [
      "1018884352368\n"
     ]
    }
   ],
   "source": [
    "x=3\n",
    "print(id(x))"
   ]
  },
  {
   "source": [
    "**Observation:**\n",
    "\n",
    "x & y points to same location"
   ],
   "cell_type": "markdown",
   "metadata": {}
  },
  {
   "cell_type": "code",
   "execution_count": 8,
   "metadata": {},
   "outputs": [
    {
     "output_type": "stream",
     "name": "stdout",
     "text": [
      "1018884352400\n"
     ]
    }
   ],
   "source": [
    "y=4\n",
    "print(id(y))"
   ]
  },
  {
   "source": [
    "----"
   ],
   "cell_type": "markdown",
   "metadata": {}
  }
 ]
}