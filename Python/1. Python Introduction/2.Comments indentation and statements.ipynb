{
 "metadata": {
  "language_info": {
   "codemirror_mode": {
    "name": "ipython",
    "version": 3
   },
   "file_extension": ".py",
   "mimetype": "text/x-python",
   "name": "python",
   "nbconvert_exporter": "python",
   "pygments_lexer": "ipython3",
   "version": "3.9.5"
  },
  "orig_nbformat": 4,
  "kernelspec": {
   "name": "python3",
   "display_name": "Python 3.9.5 64-bit"
  },
  "interpreter": {
   "hash": "774859b2267dd942a7ec4c9357ad77e8ff189738f21520416ffa9c31600369a1"
  }
 },
 "nbformat": 4,
 "nbformat_minor": 2,
 "cells": [
  {
   "source": [
    "# Python Comments\n",
    "     \n",
    "**Comments** are lines that exist in computer programs that **are ignored by compilers and interpreters**.\n",
    "\n",
    "\n",
    "**Including comments in programs makes code more readable** as it provides some information or explanation about what each part of a program is doing.\n",
    "\n",
    "In general, it is a good idea to write comments while you are writing or updating a program as it is easy to forget your thought process later on, and **comments written later may be less useful in the long term**.\n"
   ],
   "cell_type": "markdown",
   "metadata": {}
  },
  {
   "source": [
    "In python, we use hash (#) symbol to start writing a comment."
   ],
   "cell_type": "markdown",
   "metadata": {}
  },
  {
   "cell_type": "code",
   "execution_count": 1,
   "metadata": {},
   "outputs": [
    {
     "output_type": "stream",
     "name": "stdout",
     "text": [
      "Hello, World!\n"
     ]
    }
   ],
   "source": [
    "#print Hello,world to console\n",
    "print(\"Hello, World!\")"
   ]
  },
  {
   "source": [
    "# Multi Line Comments\n",
    "\n",
    "If we have comments that extend multiple lines, one way of doing it is to use hash (#) int the beginning of each line. "
   ],
   "cell_type": "markdown",
   "metadata": {}
  },
  {
   "cell_type": "code",
   "execution_count": 2,
   "metadata": {},
   "outputs": [],
   "source": [
    "#This is along comment\n",
    "#and it extends\n",
    "#Multiple lines"
   ]
  },
  {
   "source": [
    "Another way of doing this is to use triple  quotes,either \"\"\" or \"\"\"."
   ],
   "cell_type": "markdown",
   "metadata": {}
  },
  {
   "cell_type": "code",
   "execution_count": 3,
   "metadata": {},
   "outputs": [
    {
     "output_type": "execute_result",
     "data": {
      "text/plain": [
       "'This is also a \\nperfect example of\\nmulti-line comment'"
      ]
     },
     "metadata": {},
     "execution_count": 3
    }
   ],
   "source": [
    "\"\"\"This is also a \n",
    "perfect example of\n",
    "multi-line comment\"\"\""
   ]
  },
  {
   "source": [
    "# Python Indentation\n",
    "\n",
    "1. Most of the programming languages like C,C++,Java use **braces{ }** to define a block of code. **Python uses indentation**. \n",
    "\n",
    "2. A code block (body of a function, loop etc.) starts with indentation and ends with first unindented line. The ammount of indentation  is up to you, but it must be consistent throughout that block.  \n",
    "\n",
    "3. Generally **four whitespaces** are used for indentation and is **prefferd over tabs**"
   ],
   "cell_type": "markdown",
   "metadata": {}
  },
  {
   "cell_type": "code",
   "execution_count": 4,
   "metadata": {},
   "outputs": [
    {
     "output_type": "stream",
     "name": "stdout",
     "text": [
      "0\n1\n2\n3\n4\n5\n6\n7\n8\n9\n100\n"
     ]
    }
   ],
   "source": [
    "for i in range(10): #we will look at for loop in detail later. \n",
    "    print(i)\n",
    "print(100)"
   ]
  },
  {
   "source": [
    "Here print(100) is not a part of *for loop*. So 100 is printed at the end of the output.\n",
    "\n",
    "Indentation can be ignored in line continuation. But it's a good idea to always indent. It makes the code more readabe."
   ],
   "cell_type": "markdown",
   "metadata": {}
  },
  {
   "cell_type": "code",
   "execution_count": 5,
   "metadata": {},
   "outputs": [
    {
     "output_type": "stream",
     "name": "stdout",
     "text": [
      "If_else loop\n"
     ]
    }
   ],
   "source": [
    "if True:\n",
    "    print(\"If_else loop\")"
   ]
  },
  {
   "source": [
    "# Python Statements\n",
    "Instruction that a Interpreter can execute are called **statements**. \n",
    "\n",
    "*Example*:"
   ],
   "cell_type": "markdown",
   "metadata": {}
  },
  {
   "source": [
    "a=1 #single statement"
   ],
   "cell_type": "code",
   "metadata": {},
   "execution_count": 6,
   "outputs": []
  },
  {
   "source": [
    "# Multi-Line Statement\n",
    "In python, end of statemet is marked by a **newline character**.But we can make a statement extend over multiple lines with continuation character(). "
   ],
   "cell_type": "markdown",
   "metadata": {}
  },
  {
   "cell_type": "code",
   "execution_count": 7,
   "metadata": {},
   "outputs": [
    {
     "output_type": "stream",
     "name": "stdout",
     "text": [
      "36\n"
     ]
    }
   ],
   "source": [
    "a=1+2+3+\\\n",
    "  4+5+6+\\\n",
    "7+8\n",
    "\n",
    "print (a)"
   ]
  },
  {
   "cell_type": "code",
   "execution_count": 8,
   "metadata": {},
   "outputs": [
    {
     "output_type": "stream",
     "name": "stdout",
     "text": [
      "55\n"
     ]
    }
   ],
   "source": [
    "#another way is to use paranthesis\n",
    "a=(1+2+3+4+ \n",
    "  5+6+7+8+\n",
    "  9+10)\n",
    "print(a)"
   ]
  },
  {
   "cell_type": "code",
   "execution_count": 9,
   "metadata": {},
   "outputs": [
    {
     "output_type": "stream",
     "name": "stdout",
     "text": [
      "10 20 30\n"
     ]
    }
   ],
   "source": [
    "a=10;b=20;c=30 #put multiple staements in a single line using ;\n",
    "print(a,b,c)"
   ]
  }
 ]
}