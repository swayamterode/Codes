{
 "metadata": {
  "language_info": {
   "codemirror_mode": {
    "name": "ipython",
    "version": 3
   },
   "file_extension": ".py",
   "mimetype": "text/x-python",
   "name": "python",
   "nbconvert_exporter": "python",
   "pygments_lexer": "ipython3",
   "version": "3.9.5"
  },
  "orig_nbformat": 4,
  "kernelspec": {
   "name": "python3",
   "display_name": "Python 3.9.5 64-bit"
  },
  "interpreter": {
   "hash": "774859b2267dd942a7ec4c9357ad77e8ff189738f21520416ffa9c31600369a1"
  }
 },
 "nbformat": 4,
 "nbformat_minor": 2,
 "cells": [
  {
   "source": [
    "# Pyhton Input and Output"
   ],
   "cell_type": "markdown",
   "metadata": {}
  },
  {
   "source": [
    "# Pyhton Output\n",
    "We use the print( ) function to output data to the standard output device."
   ],
   "cell_type": "markdown",
   "metadata": {}
  },
  {
   "cell_type": "code",
   "execution_count": 1,
   "metadata": {},
   "outputs": [
    {
     "output_type": "stream",
     "name": "stdout",
     "text": [
      "Hello, Wolrd!\n"
     ]
    }
   ],
   "source": [
    "print(\"Hello, Wolrd!\")"
   ]
  },
  {
   "cell_type": "code",
   "execution_count": 2,
   "metadata": {},
   "outputs": [
    {
     "output_type": "stream",
     "name": "stdout",
     "text": [
      "The value of a is: 10\nThe value of a is: 10\n"
     ]
    }
   ],
   "source": [
    "a=10\n",
    "print(\"The value of a is:\",a)\n",
    "print(\"The value of a is: \"+ str(a))"
   ]
  },
  {
   "source": [
    "# Ouput Formatting"
   ],
   "cell_type": "markdown",
   "metadata": {}
  },
  {
   "cell_type": "code",
   "execution_count": 3,
   "metadata": {},
   "outputs": [
    {
     "output_type": "stream",
     "name": "stdout",
     "text": [
      "The value of a is 10 and b is 20\n"
     ]
    }
   ],
   "source": [
    "a=10; b=20\n",
    "print(\"The value of a is {} and b is {}\".format(a,b))"
   ]
  },
  {
   "cell_type": "code",
   "execution_count": 4,
   "metadata": {},
   "outputs": [
    {
     "output_type": "stream",
     "name": "stdout",
     "text": [
      "The value of a 20 and b is 10\n"
     ]
    }
   ],
   "source": [
    "a=10; b=20\n",
    "print(\"The value of a {1} and b is {0}\".format(a,b))"
   ]
  },
  {
   "source": [
    "The **.format** works with index as well here a is accesses by {0} and b is accessed by {1}"
   ],
   "cell_type": "markdown",
   "metadata": {}
  },
  {
   "cell_type": "code",
   "execution_count": 5,
   "metadata": {},
   "outputs": [
    {
     "output_type": "stream",
     "name": "stdout",
     "text": [
      "Hello User,Good Morning\n"
     ]
    }
   ],
   "source": [
    "# We can use keyword arguments to format the string\n",
    "print(\"Hello {name},{greatings}\".format(name=\"User\",greatings=\"Good Morning\"))"
   ]
  },
  {
   "cell_type": "code",
   "execution_count": 6,
   "metadata": {},
   "outputs": [
    {
     "output_type": "stream",
     "name": "stdout",
     "text": [
      "The story of Swayam, Manfred, and George\n"
     ]
    }
   ],
   "source": [
    "# We can combine positional arguments with keyword arguments\n",
    "print(\"The story of {0}, {1}, and {other}\".format(\"Swayam\",\"Manfred\",other=\"George\"))"
   ]
  },
  {
   "source": [
    "# Python Input\n",
    "\n",
    "Want to take the input from the user?\n",
    "\n",
    "In python we have the input() function to allow this."
   ],
   "cell_type": "markdown",
   "metadata": {}
  },
  {
   "cell_type": "code",
   "execution_count": 7,
   "metadata": {},
   "outputs": [
    {
     "output_type": "stream",
     "name": "stdout",
     "text": [
      "The number you entered is: 123456789\n"
     ]
    }
   ],
   "source": [
    "num= input(\"Enter the number:\")\n",
    "print(\"The number you entered is:\",num)"
   ]
  }
 ]
}