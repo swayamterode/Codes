{
 "metadata": {
  "language_info": {
   "codemirror_mode": {
    "name": "ipython",
    "version": 3
   },
   "file_extension": ".py",
   "mimetype": "text/x-python",
   "name": "python",
   "nbconvert_exporter": "python",
   "pygments_lexer": "ipython3",
   "version": "3.9.5"
  },
  "orig_nbformat": 4,
  "kernelspec": {
   "name": "python3",
   "display_name": "Python 3.9.5 64-bit"
  },
  "interpreter": {
   "hash": "774859b2267dd942a7ec4c9357ad77e8ff189738f21520416ffa9c31600369a1"
  }
 },
 "nbformat": 4,
 "nbformat_minor": 2,
 "cells": [
  {
   "source": [
    "# Operators\n",
    "Operators are special symbols in Python that carry out arithmetic or logical computation. The value that the operates on is called the operand."
   ],
   "cell_type": "markdown",
   "metadata": {}
  },
  {
   "source": [
    "# Operators Types\n",
    "\n",
    "1. Arithmetic Operators\n",
    "2. Comparision (Relational) Operators\n",
    "3. Logical Operators\n",
    "4. Bitwise Operators\n",
    "5. Assignment Operators\n",
    "6. Special Operators"
   ],
   "cell_type": "markdown",
   "metadata": {}
  },
  {
   "source": [
    "# Arithmetic Operators\n",
    "\n",
    "Arithmetic operations are used to perform mathematical operations like addition, substraction,multiplication etc.\n",
    "\n",
    "+,-,*,/,%,//,** are arithmetic operators \n",
    "\n",
    "Example:"
   ],
   "cell_type": "markdown",
   "metadata": {}
  },
  {
   "cell_type": "code",
   "execution_count": 1,
   "metadata": {},
   "outputs": [
    {
     "output_type": "stream",
     "name": "stdout",
     "text": [
      "30\n-10\n0.5\n10\n0\n16\n"
     ]
    }
   ],
   "source": [
    "x,y=10,20\n",
    "\n",
    "#addition(+)\n",
    "print(x+y)\n",
    "\n",
    "#subtraction(-)\n",
    "print(x-y)\n",
    "\n",
    "#division\n",
    "print(x/y)\n",
    "\n",
    "#modulo division (%)\n",
    "print(x%y)\n",
    "\n",
    "#Floor Division\n",
    "print(x//y)\n",
    "\n",
    "#Exponent (**)\n",
    "print(2**4)\n"
   ]
  },
  {
   "source": [
    "In the above code **addition, subtraction & division are quite similar to us**.\n",
    "\n",
    "1. What is modulo division? \n",
    "\n",
    " Modulo division gives us the **Remainder**.\n",
    "\n",
    "2. What is Floor division?\n",
    "\n",
    " let's understand this with example "
   ],
   "cell_type": "markdown",
   "metadata": {}
  },
  {
   "cell_type": "code",
   "execution_count": 2,
   "metadata": {},
   "outputs": [
    {
     "output_type": "stream",
     "name": "stdout",
     "text": [
      "7\n"
     ]
    }
   ],
   "source": [
    "print(15//2)"
   ]
  },
  {
   "source": [
    "Here we know that 15/2 is 7.5 but the output is 7 because **it take the int number just smaller than the accurate output**. \n",
    "\n",
    "3. What is Exponent Operator?\n",
    " Exponent operators is same as power of any number . \n",
    " \n",
    " Example:"
   ],
   "cell_type": "markdown",
   "metadata": {}
  },
  {
   "cell_type": "code",
   "execution_count": 3,
   "metadata": {},
   "outputs": [
    {
     "output_type": "stream",
     "name": "stdout",
     "text": [
      "2 raise to power 3 is: 8\n"
     ]
    }
   ],
   "source": [
    "print(\"2 raise to power 3 is:\",2**3)"
   ]
  },
  {
   "source": [
    "# Comparision Operators\n",
    "Comparision Operators are used to compare values. It either retruns True or False according to the condition.\n",
    "\n",
    " where >,<,==,!=,>=,<= are Comparision Operators. "
   ],
   "cell_type": "markdown",
   "metadata": {}
  },
  {
   "cell_type": "code",
   "execution_count": 4,
   "metadata": {},
   "outputs": [
    {
     "output_type": "stream",
     "name": "stdout",
     "text": [
      "True\nFalse\nFalse\nTrue\nTrue\nFalse\n"
     ]
    }
   ],
   "source": [
    "a,b=10,20\n",
    "\n",
    "print(a<b)   #checks a is less than b\n",
    "print(a>b)   #checks a is greater than b\n",
    "print(a==b)  #checks a is equal to b\n",
    "print(a!=b)  #checks a is not equal to b\n",
    "print(a<=b)  #checks a is less than or equal to b\n",
    "print(a>=b)  #checls a is greater than or equal to b "
   ]
  },
  {
   "source": [
    "# Logical Operators\n",
    "Logical Operators *are and ,or,not* Operators. "
   ],
   "cell_type": "markdown",
   "metadata": {}
  },
  {
   "cell_type": "code",
   "execution_count": 5,
   "metadata": {},
   "outputs": [
    {
     "output_type": "stream",
     "name": "stdout",
     "text": [
      "False\n"
     ]
    }
   ],
   "source": [
    "a,b=True,False\n",
    "# print a and b\n",
    "print(a and b)"
   ]
  },
  {
   "cell_type": "code",
   "execution_count": 6,
   "metadata": {},
   "outputs": [
    {
     "output_type": "stream",
     "name": "stdout",
     "text": [
      "True\n"
     ]
    }
   ],
   "source": [
    "#print a or b\n",
    "print(a or b)"
   ]
  },
  {
   "cell_type": "code",
   "execution_count": 7,
   "metadata": {},
   "outputs": [
    {
     "output_type": "stream",
     "name": "stdout",
     "text": [
      "False\n"
     ]
    }
   ],
   "source": [
    "#print not a\n",
    "print(not a)"
   ]
  },
  {
   "cell_type": "code",
   "execution_count": 8,
   "metadata": {},
   "outputs": [
    {
     "output_type": "stream",
     "name": "stdout",
     "text": [
      "True\n"
     ]
    }
   ],
   "source": [
    "#print not b\n",
    "print(not b)"
   ]
  },
  {
   "source": [
    "# Bitwise Operators\n",
    "Bitwise Operators on operands as if they were string of binary digits. It operates bit by bit. \n",
    "\n",
    "In Python, bitwise operators are used to perform bitwise calculations on integers. The integers are first converted into binary and then operations are performed on bit by bit, hence the name bitwise operators. Then the result is returned in decimal format.\n",
    "\n",
    "Note: Python bitwise operators work only on integers.\n",
    "\n",
    "|OPERATOR |DESCRIPTION            |   SYNTAX  |\n",
    "|:----:   |   :------:            | :---:     |\n",
    "|`&`\t  |`Bitwise AND`          |\t`x & y` |\n",
    "| `|`\t  |`Bitwise OR`           | `x | y`   |\n",
    "|`~\t`     |`Bitwise NOT`          |\t`~x`    |\n",
    "|`^`\t  |`Bitwise XOR`          |\t`x ^ y` |\n",
    "|`>>`\t  |`Bitwise right shift`  |\t`x>>`   |\n",
    "|`<<`     |`Bitwise left shift`   |\t`x<<`   |"
   ],
   "cell_type": "markdown",
   "metadata": {}
  },
  {
   "source": [
    "**Bitwise AND operator:** Returns 1 if both the bits are 1 else 0.\n",
    "\n",
    "Example:"
   ],
   "cell_type": "markdown",
   "metadata": {}
  },
  {
   "cell_type": "code",
   "execution_count": 9,
   "metadata": {},
   "outputs": [
    {
     "output_type": "stream",
     "name": "stdout",
     "text": [
      "0\n"
     ]
    }
   ],
   "source": [
    "a = 10 #= 1010 (Binary)\n",
    "b = 4  #=  0100 (Binary\n",
    "print(a&b)\n",
    "\n",
    "# a & b = 1010\n",
    "#         &\n",
    "#        0100\n",
    "#      = 0000\n",
    "#      = 0 (Decimal)"
   ]
  },
  {
   "source": [
    "**Bitwise or operator:** Returns 1 if either of the bit is 1 else 0.\n",
    "\n",
    "Example:"
   ],
   "cell_type": "markdown",
   "metadata": {}
  },
  {
   "cell_type": "code",
   "execution_count": 10,
   "metadata": {},
   "outputs": [
    {
     "output_type": "stream",
     "name": "stdout",
     "text": [
      "14\n"
     ]
    }
   ],
   "source": [
    "\n",
    "a = 10 # = 1010 (Binary)\n",
    "b = 4  #=  0100 (Binary\n",
    "\n",
    "print(a|b)\n",
    "\n",
    "# a | b = 1010\n",
    "#          |\n",
    "#         0100\n",
    "#       = 1110\n",
    "#       = 14 (Decimal)"
   ]
  },
  {
   "source": [
    "**Bitwise not operator:** Returns one’s compliement of the number.\n",
    "\n",
    "Example:"
   ],
   "cell_type": "markdown",
   "metadata": {}
  },
  {
   "cell_type": "code",
   "execution_count": 11,
   "metadata": {},
   "outputs": [
    {
     "output_type": "stream",
     "name": "stdout",
     "text": [
      "-11\n"
     ]
    }
   ],
   "source": [
    "a = 10      # = 1010 (Binary)\n",
    "print(~a)\n",
    "\n",
    "# ~a = ~1010\n",
    "#    = -(1010 + 1)\n",
    "#    = -(1011)\n",
    "#    = -11 (Decimal)"
   ]
  },
  {
   "source": [
    "**Bitwise xor operator:** Returns 1 if one of the bit is 1 and other is 0 else returns false.\n",
    "\n",
    "Example:"
   ],
   "cell_type": "markdown",
   "metadata": {}
  },
  {
   "cell_type": "code",
   "execution_count": 12,
   "metadata": {},
   "outputs": [
    {
     "output_type": "stream",
     "name": "stdout",
     "text": [
      "14\n"
     ]
    }
   ],
   "source": [
    "a = 10      # a= 1010 (Binary)\n",
    "b = 4       #b=  0100 (Binary\n",
    "print(a^b)\n",
    "\n",
    "# a & b = 1010\n",
    "#          ^\n",
    "#         0100\n",
    "#       = 1110\n",
    "#       = 14 (Decimal)"
   ]
  },
  {
   "source": [
    "### Code"
   ],
   "cell_type": "markdown",
   "metadata": {}
  },
  {
   "cell_type": "code",
   "execution_count": 13,
   "metadata": {},
   "outputs": [
    {
     "output_type": "stream",
     "name": "stdout",
     "text": [
      "a & b = 0\na | b = 14\n~a = -11\na ^ b = 14\n"
     ]
    }
   ],
   "source": [
    "# Python program to show\n",
    "# bitwise operators\n",
    "\n",
    "a = 10\n",
    "b = 4\n",
    "\n",
    "# Print bitwise AND operation\n",
    "print(\"a & b =\", a & b)\n",
    "\n",
    "# Print bitwise OR operation\n",
    "print(\"a | b =\", a | b)\n",
    "\n",
    "# Print bitwise NOT operation\n",
    "print(\"~a =\", ~a)\n",
    "\n",
    "# print bitwise XOR operation\n",
    "print(\"a ^ b =\", a ^ b)\n"
   ]
  },
  {
   "source": [
    "# Shift Operators\n",
    "These operators are used to shift the bits of a number left or right thereby multiplying or dividing the number by two respectively. They can be used when we have to multiply or divide a number by two. \n",
    "\n",
    "**Bitwise right shift:** Shifts the bits of the number to the right and fills 0 on voids left as a result. Similar effect as of dividing the number with some power of two.\n",
    "\n",
    "Example: "
   ],
   "cell_type": "markdown",
   "metadata": {}
  },
  {
   "cell_type": "code",
   "execution_count": 14,
   "metadata": {},
   "outputs": [
    {
     "output_type": "stream",
     "name": "stdout",
     "text": [
      "5\n-5\n"
     ]
    }
   ],
   "source": [
    "a = 10\n",
    "print (a>>1)        #a >> 1 = 5 \n",
    "\n",
    "\n",
    "a = -10 \n",
    "print(a>>1)         #a >> 1 = -5\n"
   ]
  },
  {
   "source": [
    "**Bitwise left shift:** Shifts the bits of the number to the left and fills 0 on voids left as a result. Similar effect as of multiplying the number with some power of two.\n",
    "\n",
    "Example: "
   ],
   "cell_type": "markdown",
   "metadata": {}
  },
  {
   "cell_type": "code",
   "execution_count": 15,
   "metadata": {},
   "outputs": [
    {
     "output_type": "stream",
     "name": "stdout",
     "text": [
      "a << 1 = 10\nb << 1 = -20\n"
     ]
    }
   ],
   "source": [
    "a = 5\n",
    "b = -10\n",
    " \n",
    "# print bitwise left shift operator\n",
    "print(\"a << 1 =\", a << 1)\n",
    "print(\"b << 1 =\", b << 1)"
   ]
  },
  {
   "source": [
    "# Asignment Operators \n",
    "Assignment Operators are used to assign values to variables.\n",
    "\n",
    "a=5 is a simple Assignment Operator that assign the value 5 on the right to the variable a on the left.\n",
    "\n",
    "=, +=, -=, /=, %=, //=, **=, &=, |=, ^=, >>=, <<= are Asignment Operators"
   ],
   "cell_type": "markdown",
   "metadata": {}
  },
  {
   "cell_type": "code",
   "execution_count": 16,
   "metadata": {},
   "outputs": [
    {
     "output_type": "stream",
     "name": "stdout",
     "text": [
      "20\n"
     ]
    }
   ],
   "source": [
    "a=10\n",
    "a+=10\n",
    "print(a)"
   ]
  },
  {
   "source": [
    "# Special Operators\n",
    "# Identity Operators\n",
    "\n",
    "**is and is not ** are the Identity Operators in Python. \n",
    "\n",
    "They are used to check if the two values (of variables) are loacated on the same part of the memory."
   ],
   "cell_type": "markdown",
   "metadata": {}
  },
  {
   "cell_type": "code",
   "execution_count": 17,
   "metadata": {},
   "outputs": [
    {
     "output_type": "stream",
     "name": "stdout",
     "text": [
      "True\n"
     ]
    }
   ],
   "source": [
    "a=5\n",
    "b=5\n",
    "print(a is b) #5 is object created once both a and b points to same objects so it gives us True"
   ]
  },
  {
   "cell_type": "code",
   "execution_count": 18,
   "metadata": {},
   "outputs": [
    {
     "output_type": "stream",
     "name": "stdout",
     "text": [
      "False\n"
     ]
    }
   ],
   "source": [
    "l1=[1,2,3]\n",
    "l2=[1,2,3]\n",
    "print(l1 is l2)"
   ]
  },
  {
   "source": [
    ">The above code indicates us that the **is or is not works only with variables** **not with complex  datatypes**. "
   ],
   "cell_type": "markdown",
   "metadata": {}
  },
  {
   "source": [
    "# MemberShip Operators\n",
    "**in and not** in are the MemberShip Operators  in Python.\n",
    "\n",
    "They are used to test whether a value or variable is found in a sequence (string,list,tuple,set and dictionary). "
   ],
   "cell_type": "markdown",
   "metadata": {}
  },
  {
   "cell_type": "code",
   "execution_count": 19,
   "metadata": {},
   "outputs": [
    {
     "output_type": "stream",
     "name": "stdout",
     "text": [
      "True\n"
     ]
    }
   ],
   "source": [
    "l1=[1,2,3,4]\n",
    "print(1 in l1) #checks whether the 1 is present in the given list or not"
   ]
  },
  {
   "cell_type": "code",
   "execution_count": 20,
   "metadata": {},
   "outputs": [
    {
     "output_type": "stream",
     "name": "stdout",
     "text": [
      "True\n"
     ]
    }
   ],
   "source": [
    "d={1:\"user\",2:\"user2\"}\n",
    "print(1 in d)"
   ]
  },
  {
   "cell_type": "code",
   "execution_count": 21,
   "metadata": {},
   "outputs": [
    {
     "output_type": "stream",
     "name": "stdout",
     "text": [
      "False\n"
     ]
    }
   ],
   "source": [
    "print(\"user2\" in d)"
   ]
  },
  {
   "source": [
    "The Membership Operators checks only in the key in case of dictionary.It will return **False** when you put value in place of key (See above code)."
   ],
   "cell_type": "markdown",
   "metadata": {}
  }
 ]
}