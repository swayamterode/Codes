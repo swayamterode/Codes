{
 "metadata": {
  "language_info": {
   "codemirror_mode": {
    "name": "ipython",
    "version": 3
   },
   "file_extension": ".py",
   "mimetype": "text/x-python",
   "name": "python",
   "nbconvert_exporter": "python",
   "pygments_lexer": "ipython3",
   "version": "3.9.5"
  },
  "orig_nbformat": 4,
  "kernelspec": {
   "name": "python3",
   "display_name": "Python 3.9.5 64-bit"
  },
  "interpreter": {
   "hash": "774859b2267dd942a7ec4c9357ad77e8ff189738f21520416ffa9c31600369a1"
  }
 },
 "nbformat": 4,
 "nbformat_minor": 2,
 "cells": [
  {
   "source": [
    "# Python Keywords\n",
    "**Keywords** are the reserved words in Python.\n",
    "\n",
    "We can't use keyword as **variable name**, **function name** or **any other identifier**.\n",
    "\n",
    "keywords are **case sensitive**.\n"
   ],
   "cell_type": "markdown",
   "metadata": {}
  },
  {
   "cell_type": "code",
   "execution_count": 1,
   "metadata": {},
   "outputs": [
    {
     "output_type": "stream",
     "name": "stdout",
     "text": [
      "['False', 'None', 'True', '__peg_parser__', 'and', 'as', 'assert', 'async', 'await', 'break', 'class', 'continue', 'def', 'del', 'elif', 'else', 'except', 'finally', 'for', 'from', 'global', 'if', 'import', 'in', 'is', 'lambda', 'nonlocal', 'not', 'or', 'pass', 'raise', 'return', 'try', 'while', 'with', 'yield']\n\nTotal number of keyword: 36\n"
     ]
    }
   ],
   "source": [
    "import keyword\n",
    "print(keyword.kwlist)\n",
    "print(\"\\nTotal number of keyword:\",len(keyword.kwlist))"
   ]
  },
  {
   "source": [
    "# What is above code all about?\n",
    "\n",
    "The above code looks very confusing when you look at it at first glance.\n",
    "\n",
    "### 1.The **import** keyword is sort of like #include<stdio.h>\n",
    "\n",
    "It means that import all the keywords in the particular code snippet. \n",
    "\n",
    "\n",
    "### 2.print also works as same as printf in C & cout in C++.\n",
    "\n",
    "So here *print(keyword.kwlist)* will give you the total number of keywords present in python.\n",
    "\n",
    "\n",
    "\n",
    "### 3.How the length of the keyword is printed?\n",
    "\n",
    "``` python\n",
    "len() #(len function is written as len())\n",
    "```\n",
    "\n",
    "**It gives us the *length of the keyword* here.**\n",
    "\n",
    "\n",
    "### 4.Now if we want to see that how many *keywords* are present, we simply write it as -\n",
    "\n",
    "```python\n",
    "print(\"The total number of keyword present are: \" len(keyword.kwlist))\n",
    "```\n",
    "len gives us the numeric lenght of the `kwlist`.\n",
    "\n",
    "-------\n"
   ],
   "cell_type": "markdown",
   "metadata": {}
  },
  {
   "source": [
    "# Identifiers\n",
    "Identifiers is the name given to entities like class, function,variables etc. in python. It helps differentiaitng one entity from other.\n",
    "\n",
    "# Rules for writing Identiiers:\n",
    "**RULE** 1. Identifiers can be a combination of letters in lowecase (a to z) or uppercase (A to Z) or digits (0 to 9) or an underscore (_).\n",
    "\n",
    "**RULE** 2. An identifiers cannot start with a digit 1 variable is invalid , but variable1 is perfectly fine.\n",
    "\n",
    "**RULE** 3. keywords cannot be used as identifiers."
   ],
   "cell_type": "markdown",
   "metadata": {}
  },
  {
   "source": [
    " a=10\n",
    " global=1\n"
   ],
   "cell_type": "code",
   "metadata": {},
   "execution_count": 2,
   "outputs": [
    {
     "output_type": "error",
     "ename": "SyntaxError",
     "evalue": "invalid syntax (<ipython-input-2-9f9e9499d0df>, line 2)",
     "traceback": [
      "\u001b[1;36m  File \u001b[1;32m\"<ipython-input-2-9f9e9499d0df>\"\u001b[1;36m, line \u001b[1;32m2\u001b[0m\n\u001b[1;33m    global=1\u001b[0m\n\u001b[1;37m          ^\u001b[0m\n\u001b[1;31mSyntaxError\u001b[0m\u001b[1;31m:\u001b[0m invalid syntax\n"
     ]
    }
   ]
  },
  {
   "source": [
    "In the above code there is an error which says **invalid syntax** for the **global** variable not for identifier **a**. \n",
    "\n",
    "**global** is an **keyword** and hence *cannot be used as an identifier*."
   ],
   "cell_type": "markdown",
   "metadata": {}
  },
  {
   "cell_type": "code",
   "execution_count": 3,
   "metadata": {},
   "outputs": [
    {
     "output_type": "stream",
     "name": "stdout",
     "text": [
      "10 52\n"
     ]
    }
   ],
   "source": [
    "a=10\n",
    "Global=52\n",
    "\n",
    "print(a,Global)\n"
   ]
  },
  {
   "source": [
    "In the above code we got our output as **10 52** because we used *a* as variable and *Global* as variable both are not considered as *keywords*.\n",
    "\n",
    "\n",
    "**RULE ** 4. We cannot use special symbols like !,@,#,$,% etc.in our identifiers.\n",
    "\n",
    "example is stated below"
   ],
   "cell_type": "markdown",
   "metadata": {}
  },
  {
   "cell_type": "code",
   "execution_count": 4,
   "metadata": {},
   "outputs": [
    {
     "output_type": "error",
     "ename": "TypeError",
     "evalue": "unsupported operand type(s) for @=: 'int' and 'int'",
     "traceback": [
      "\u001b[1;31m---------------------------------------------------------------------------\u001b[0m",
      "\u001b[1;31mTypeError\u001b[0m                                 Traceback (most recent call last)",
      "\u001b[1;32m<ipython-input-4-2a3d543702b2>\u001b[0m in \u001b[0;36m<module>\u001b[1;34m\u001b[0m\n\u001b[1;32m----> 1\u001b[1;33m \u001b[0ma\u001b[0m\u001b[1;33m@=\u001b[0m\u001b[1;36m10\u001b[0m\u001b[1;33m\u001b[0m\u001b[1;33m\u001b[0m\u001b[0m\n\u001b[0m",
      "\u001b[1;31mTypeError\u001b[0m: unsupported operand type(s) for @=: 'int' and 'int'"
     ]
    }
   ],
   "source": [
    "a@=10"
   ]
  }
 ]
}